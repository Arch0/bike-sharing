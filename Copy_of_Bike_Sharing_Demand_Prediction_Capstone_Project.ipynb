{
  "nbformat": 4,
  "nbformat_minor": 0,
  "metadata": {
    "kernelspec": {
      "display_name": "Python 3",
      "language": "python",
      "name": "python3"
    },
    "language_info": {
      "codemirror_mode": {
        "name": "ipython",
        "version": 3
      },
      "file_extension": ".py",
      "mimetype": "text/x-python",
      "name": "python",
      "nbconvert_exporter": "python",
      "pygments_lexer": "ipython3",
      "version": "3.6.6"
    },
    "colab": {
      "name": "Copy of Bike Sharing Demand Prediction - Capstone Project.ipynb",
      "provenance": [],
      "collapsed_sections": [],
      "include_colab_link": true
    }
  },
  "cells": [
    {
      "cell_type": "markdown",
      "metadata": {
        "id": "view-in-github",
        "colab_type": "text"
      },
      "source": [
        "<a href=\"https://colab.research.google.com/github/Arch0/bike-sharing/blob/main/Copy_of_Bike_Sharing_Demand_Prediction_Capstone_Project.ipynb\" target=\"_parent\"><img src=\"https://colab.research.google.com/assets/colab-badge.svg\" alt=\"Open In Colab\"/></a>"
      ]
    },
    {
      "cell_type": "markdown",
      "metadata": {
        "id": "tOGC-qoyhJeX"
      },
      "source": [
        "# <b><u> Project Title : Seoul Bike Sharing Demand Prediction </u></b>"
      ]
    },
    {
      "cell_type": "markdown",
      "metadata": {
        "id": "Y06xIdG26kRF"
      },
      "source": [
        "## <b> Problem Description </b>\n",
        "\n",
        "### Currently Rental bikes are introduced in many urban cities for the enhancement of mobility comfort. It is important to make the rental bike available and accessible to the public at the right time as it lessens the waiting time. Eventually, providing the city with a stable supply of rental bikes becomes a major concern. The crucial part is the prediction of bike count required at each hour for the stable supply of rental bikes.\n"
      ]
    },
    {
      "cell_type": "markdown",
      "metadata": {
        "id": "AlLxAtlziMbP"
      },
      "source": [
        "## <b> Data Description </b>\n",
        "\n",
        "### <b> The dataset contains weather information (Temperature, Humidity, Windspeed, Visibility, Dewpoint, Solar radiation, Snowfall, Rainfall), the number of bikes rented per hour and date information.</b>\n",
        "\n",
        "\n",
        "### <b>Attribute Information: </b>\n",
        "\n",
        "* ### Date : year-month-day\n",
        "* ### Rented Bike count - Count of bikes rented at each hour\n",
        "* ### Hour - Hour of he day\n",
        "* ### Temperature-Temperature in Celsius\n",
        "* ### Humidity - %\n",
        "* ### Windspeed - m/s\n",
        "* ### Visibility - 10m\n",
        "* ### Dew point temperature - Celsius\n",
        "* ### Solar radiation - MJ/m2\n",
        "* ### Rainfall - mm\n",
        "* ### Snowfall - cm\n",
        "* ### Seasons - Winter, Spring, Summer, Autumn\n",
        "* ### Holiday - Holiday/No holiday\n",
        "* ### Functional Day - NoFunc(Non Functional Hours), Fun(Functional hours)"
      ]
    },
    {
      "cell_type": "code",
      "metadata": {
        "id": "dByMsuzT8Tnw"
      },
      "source": [
        "import pandas as pd\n",
        "import numpy as np\n",
        "import matplotlib.pyplot as plt\n",
        "\n",
        "import seaborn as sns"
      ],
      "execution_count": null,
      "outputs": []
    },
    {
      "cell_type": "code",
      "metadata": {
        "id": "xJRzRCgajwPk"
      },
      "source": [
        "df=pd.read_csv(\"https://raw.githubusercontent.com/Arch0/bike-sharing/main/SeoulBikeData.csv\", encoding='unicode_escape', date_parser='Date')"
      ],
      "execution_count": null,
      "outputs": []
    },
    {
      "cell_type": "code",
      "metadata": {
        "colab": {
          "base_uri": "https://localhost:8080/",
          "height": 323
        },
        "id": "1gCUymG_j1cM",
        "outputId": "8a436803-e0eb-468a-eeee-ad6369c63a5f"
      },
      "source": [
        "df.head()"
      ],
      "execution_count": null,
      "outputs": [
        {
          "output_type": "execute_result",
          "data": {
            "text/html": [
              "<div>\n",
              "<style scoped>\n",
              "    .dataframe tbody tr th:only-of-type {\n",
              "        vertical-align: middle;\n",
              "    }\n",
              "\n",
              "    .dataframe tbody tr th {\n",
              "        vertical-align: top;\n",
              "    }\n",
              "\n",
              "    .dataframe thead th {\n",
              "        text-align: right;\n",
              "    }\n",
              "</style>\n",
              "<table border=\"1\" class=\"dataframe\">\n",
              "  <thead>\n",
              "    <tr style=\"text-align: right;\">\n",
              "      <th></th>\n",
              "      <th>Date</th>\n",
              "      <th>Rented Bike Count</th>\n",
              "      <th>Hour</th>\n",
              "      <th>Temperature(°C)</th>\n",
              "      <th>Humidity(%)</th>\n",
              "      <th>Wind speed (m/s)</th>\n",
              "      <th>Visibility (10m)</th>\n",
              "      <th>Dew point temperature(°C)</th>\n",
              "      <th>Solar Radiation (MJ/m2)</th>\n",
              "      <th>Rainfall(mm)</th>\n",
              "      <th>Snowfall (cm)</th>\n",
              "      <th>Seasons</th>\n",
              "      <th>Holiday</th>\n",
              "      <th>Functioning Day</th>\n",
              "    </tr>\n",
              "  </thead>\n",
              "  <tbody>\n",
              "    <tr>\n",
              "      <th>0</th>\n",
              "      <td>01/12/2017</td>\n",
              "      <td>254</td>\n",
              "      <td>0</td>\n",
              "      <td>-5.2</td>\n",
              "      <td>37</td>\n",
              "      <td>2.2</td>\n",
              "      <td>2000</td>\n",
              "      <td>-17.6</td>\n",
              "      <td>0.0</td>\n",
              "      <td>0.0</td>\n",
              "      <td>0.0</td>\n",
              "      <td>Winter</td>\n",
              "      <td>No Holiday</td>\n",
              "      <td>Yes</td>\n",
              "    </tr>\n",
              "    <tr>\n",
              "      <th>1</th>\n",
              "      <td>01/12/2017</td>\n",
              "      <td>204</td>\n",
              "      <td>1</td>\n",
              "      <td>-5.5</td>\n",
              "      <td>38</td>\n",
              "      <td>0.8</td>\n",
              "      <td>2000</td>\n",
              "      <td>-17.6</td>\n",
              "      <td>0.0</td>\n",
              "      <td>0.0</td>\n",
              "      <td>0.0</td>\n",
              "      <td>Winter</td>\n",
              "      <td>No Holiday</td>\n",
              "      <td>Yes</td>\n",
              "    </tr>\n",
              "    <tr>\n",
              "      <th>2</th>\n",
              "      <td>01/12/2017</td>\n",
              "      <td>173</td>\n",
              "      <td>2</td>\n",
              "      <td>-6.0</td>\n",
              "      <td>39</td>\n",
              "      <td>1.0</td>\n",
              "      <td>2000</td>\n",
              "      <td>-17.7</td>\n",
              "      <td>0.0</td>\n",
              "      <td>0.0</td>\n",
              "      <td>0.0</td>\n",
              "      <td>Winter</td>\n",
              "      <td>No Holiday</td>\n",
              "      <td>Yes</td>\n",
              "    </tr>\n",
              "    <tr>\n",
              "      <th>3</th>\n",
              "      <td>01/12/2017</td>\n",
              "      <td>107</td>\n",
              "      <td>3</td>\n",
              "      <td>-6.2</td>\n",
              "      <td>40</td>\n",
              "      <td>0.9</td>\n",
              "      <td>2000</td>\n",
              "      <td>-17.6</td>\n",
              "      <td>0.0</td>\n",
              "      <td>0.0</td>\n",
              "      <td>0.0</td>\n",
              "      <td>Winter</td>\n",
              "      <td>No Holiday</td>\n",
              "      <td>Yes</td>\n",
              "    </tr>\n",
              "    <tr>\n",
              "      <th>4</th>\n",
              "      <td>01/12/2017</td>\n",
              "      <td>78</td>\n",
              "      <td>4</td>\n",
              "      <td>-6.0</td>\n",
              "      <td>36</td>\n",
              "      <td>2.3</td>\n",
              "      <td>2000</td>\n",
              "      <td>-18.6</td>\n",
              "      <td>0.0</td>\n",
              "      <td>0.0</td>\n",
              "      <td>0.0</td>\n",
              "      <td>Winter</td>\n",
              "      <td>No Holiday</td>\n",
              "      <td>Yes</td>\n",
              "    </tr>\n",
              "  </tbody>\n",
              "</table>\n",
              "</div>"
            ],
            "text/plain": [
              "         Date  Rented Bike Count  Hour  ...  Seasons     Holiday  Functioning Day\n",
              "0  01/12/2017                254     0  ...   Winter  No Holiday              Yes\n",
              "1  01/12/2017                204     1  ...   Winter  No Holiday              Yes\n",
              "2  01/12/2017                173     2  ...   Winter  No Holiday              Yes\n",
              "3  01/12/2017                107     3  ...   Winter  No Holiday              Yes\n",
              "4  01/12/2017                 78     4  ...   Winter  No Holiday              Yes\n",
              "\n",
              "[5 rows x 14 columns]"
            ]
          },
          "metadata": {
            "tags": []
          },
          "execution_count": 1048
        }
      ]
    },
    {
      "cell_type": "code",
      "metadata": {
        "colab": {
          "base_uri": "https://localhost:8080/"
        },
        "id": "naWjuWhEAilw",
        "outputId": "b5624426-960a-4765-e622-23b8db0a0bdb"
      },
      "source": [
        "print('The DataFrame contains {} lines and {} columns'.format(df.shape[0],df.shape[1]))"
      ],
      "execution_count": null,
      "outputs": [
        {
          "output_type": "stream",
          "text": [
            "The DataFrame contains 8760 lines and 14 columns\n"
          ],
          "name": "stdout"
        }
      ]
    },
    {
      "cell_type": "code",
      "metadata": {
        "colab": {
          "base_uri": "https://localhost:8080/"
        },
        "id": "37BDYEnAkF3c",
        "outputId": "b8fedb67-0fa7-41a3-96fe-6280c04dea3d"
      },
      "source": [
        "df.info()"
      ],
      "execution_count": null,
      "outputs": [
        {
          "output_type": "stream",
          "text": [
            "<class 'pandas.core.frame.DataFrame'>\n",
            "RangeIndex: 8760 entries, 0 to 8759\n",
            "Data columns (total 14 columns):\n",
            " #   Column                     Non-Null Count  Dtype  \n",
            "---  ------                     --------------  -----  \n",
            " 0   Date                       8760 non-null   object \n",
            " 1   Rented Bike Count          8760 non-null   int64  \n",
            " 2   Hour                       8760 non-null   int64  \n",
            " 3   Temperature(°C)            8760 non-null   float64\n",
            " 4   Humidity(%)                8760 non-null   int64  \n",
            " 5   Wind speed (m/s)           8760 non-null   float64\n",
            " 6   Visibility (10m)           8760 non-null   int64  \n",
            " 7   Dew point temperature(°C)  8760 non-null   float64\n",
            " 8   Solar Radiation (MJ/m2)    8760 non-null   float64\n",
            " 9   Rainfall(mm)               8760 non-null   float64\n",
            " 10  Snowfall (cm)              8760 non-null   float64\n",
            " 11  Seasons                    8760 non-null   object \n",
            " 12  Holiday                    8760 non-null   object \n",
            " 13  Functioning Day            8760 non-null   object \n",
            "dtypes: float64(6), int64(4), object(4)\n",
            "memory usage: 958.2+ KB\n"
          ],
          "name": "stdout"
        }
      ]
    },
    {
      "cell_type": "code",
      "metadata": {
        "colab": {
          "base_uri": "https://localhost:8080/"
        },
        "id": "H2_XedcFk7SR",
        "outputId": "da3b83d1-8651-47de-9cc2-a41abddd4063"
      },
      "source": [
        "df.shape"
      ],
      "execution_count": null,
      "outputs": [
        {
          "output_type": "execute_result",
          "data": {
            "text/plain": [
              "(8760, 14)"
            ]
          },
          "metadata": {
            "tags": []
          },
          "execution_count": 1051
        }
      ]
    },
    {
      "cell_type": "code",
      "metadata": {
        "colab": {
          "base_uri": "https://localhost:8080/",
          "height": 314
        },
        "id": "F2OLbTSLk8Yg",
        "outputId": "2008d90c-4602-42d7-94c4-7d690371d06a"
      },
      "source": [
        "\n",
        "\n",
        "\n",
        "\n",
        "\n",
        "df.describe()"
      ],
      "execution_count": null,
      "outputs": [
        {
          "output_type": "execute_result",
          "data": {
            "text/html": [
              "<div>\n",
              "<style scoped>\n",
              "    .dataframe tbody tr th:only-of-type {\n",
              "        vertical-align: middle;\n",
              "    }\n",
              "\n",
              "    .dataframe tbody tr th {\n",
              "        vertical-align: top;\n",
              "    }\n",
              "\n",
              "    .dataframe thead th {\n",
              "        text-align: right;\n",
              "    }\n",
              "</style>\n",
              "<table border=\"1\" class=\"dataframe\">\n",
              "  <thead>\n",
              "    <tr style=\"text-align: right;\">\n",
              "      <th></th>\n",
              "      <th>Rented Bike Count</th>\n",
              "      <th>Hour</th>\n",
              "      <th>Temperature(°C)</th>\n",
              "      <th>Humidity(%)</th>\n",
              "      <th>Wind speed (m/s)</th>\n",
              "      <th>Visibility (10m)</th>\n",
              "      <th>Dew point temperature(°C)</th>\n",
              "      <th>Solar Radiation (MJ/m2)</th>\n",
              "      <th>Rainfall(mm)</th>\n",
              "      <th>Snowfall (cm)</th>\n",
              "    </tr>\n",
              "  </thead>\n",
              "  <tbody>\n",
              "    <tr>\n",
              "      <th>count</th>\n",
              "      <td>8760.000000</td>\n",
              "      <td>8760.000000</td>\n",
              "      <td>8760.000000</td>\n",
              "      <td>8760.000000</td>\n",
              "      <td>8760.000000</td>\n",
              "      <td>8760.000000</td>\n",
              "      <td>8760.000000</td>\n",
              "      <td>8760.000000</td>\n",
              "      <td>8760.000000</td>\n",
              "      <td>8760.000000</td>\n",
              "    </tr>\n",
              "    <tr>\n",
              "      <th>mean</th>\n",
              "      <td>704.602055</td>\n",
              "      <td>11.500000</td>\n",
              "      <td>12.882922</td>\n",
              "      <td>58.226256</td>\n",
              "      <td>1.724909</td>\n",
              "      <td>1436.825799</td>\n",
              "      <td>4.073813</td>\n",
              "      <td>0.569111</td>\n",
              "      <td>0.148687</td>\n",
              "      <td>0.075068</td>\n",
              "    </tr>\n",
              "    <tr>\n",
              "      <th>std</th>\n",
              "      <td>644.997468</td>\n",
              "      <td>6.922582</td>\n",
              "      <td>11.944825</td>\n",
              "      <td>20.362413</td>\n",
              "      <td>1.036300</td>\n",
              "      <td>608.298712</td>\n",
              "      <td>13.060369</td>\n",
              "      <td>0.868746</td>\n",
              "      <td>1.128193</td>\n",
              "      <td>0.436746</td>\n",
              "    </tr>\n",
              "    <tr>\n",
              "      <th>min</th>\n",
              "      <td>0.000000</td>\n",
              "      <td>0.000000</td>\n",
              "      <td>-17.800000</td>\n",
              "      <td>0.000000</td>\n",
              "      <td>0.000000</td>\n",
              "      <td>27.000000</td>\n",
              "      <td>-30.600000</td>\n",
              "      <td>0.000000</td>\n",
              "      <td>0.000000</td>\n",
              "      <td>0.000000</td>\n",
              "    </tr>\n",
              "    <tr>\n",
              "      <th>25%</th>\n",
              "      <td>191.000000</td>\n",
              "      <td>5.750000</td>\n",
              "      <td>3.500000</td>\n",
              "      <td>42.000000</td>\n",
              "      <td>0.900000</td>\n",
              "      <td>940.000000</td>\n",
              "      <td>-4.700000</td>\n",
              "      <td>0.000000</td>\n",
              "      <td>0.000000</td>\n",
              "      <td>0.000000</td>\n",
              "    </tr>\n",
              "    <tr>\n",
              "      <th>50%</th>\n",
              "      <td>504.500000</td>\n",
              "      <td>11.500000</td>\n",
              "      <td>13.700000</td>\n",
              "      <td>57.000000</td>\n",
              "      <td>1.500000</td>\n",
              "      <td>1698.000000</td>\n",
              "      <td>5.100000</td>\n",
              "      <td>0.010000</td>\n",
              "      <td>0.000000</td>\n",
              "      <td>0.000000</td>\n",
              "    </tr>\n",
              "    <tr>\n",
              "      <th>75%</th>\n",
              "      <td>1065.250000</td>\n",
              "      <td>17.250000</td>\n",
              "      <td>22.500000</td>\n",
              "      <td>74.000000</td>\n",
              "      <td>2.300000</td>\n",
              "      <td>2000.000000</td>\n",
              "      <td>14.800000</td>\n",
              "      <td>0.930000</td>\n",
              "      <td>0.000000</td>\n",
              "      <td>0.000000</td>\n",
              "    </tr>\n",
              "    <tr>\n",
              "      <th>max</th>\n",
              "      <td>3556.000000</td>\n",
              "      <td>23.000000</td>\n",
              "      <td>39.400000</td>\n",
              "      <td>98.000000</td>\n",
              "      <td>7.400000</td>\n",
              "      <td>2000.000000</td>\n",
              "      <td>27.200000</td>\n",
              "      <td>3.520000</td>\n",
              "      <td>35.000000</td>\n",
              "      <td>8.800000</td>\n",
              "    </tr>\n",
              "  </tbody>\n",
              "</table>\n",
              "</div>"
            ],
            "text/plain": [
              "       Rented Bike Count         Hour  ...  Rainfall(mm)  Snowfall (cm)\n",
              "count        8760.000000  8760.000000  ...   8760.000000    8760.000000\n",
              "mean          704.602055    11.500000  ...      0.148687       0.075068\n",
              "std           644.997468     6.922582  ...      1.128193       0.436746\n",
              "min             0.000000     0.000000  ...      0.000000       0.000000\n",
              "25%           191.000000     5.750000  ...      0.000000       0.000000\n",
              "50%           504.500000    11.500000  ...      0.000000       0.000000\n",
              "75%          1065.250000    17.250000  ...      0.000000       0.000000\n",
              "max          3556.000000    23.000000  ...     35.000000       8.800000\n",
              "\n",
              "[8 rows x 10 columns]"
            ]
          },
          "metadata": {
            "tags": []
          },
          "execution_count": 1052
        }
      ]
    },
    {
      "cell_type": "code",
      "metadata": {
        "colab": {
          "base_uri": "https://localhost:8080/"
        },
        "id": "NRXmzr4xk-IV",
        "outputId": "d22e29e9-4675-46fd-bee5-c9059f3c07ba"
      },
      "source": [
        "# checking missing values\n",
        "df.isnull().sum()\n",
        "\n"
      ],
      "execution_count": null,
      "outputs": [
        {
          "output_type": "execute_result",
          "data": {
            "text/plain": [
              "Date                         0\n",
              "Rented Bike Count            0\n",
              "Hour                         0\n",
              "Temperature(°C)              0\n",
              "Humidity(%)                  0\n",
              "Wind speed (m/s)             0\n",
              "Visibility (10m)             0\n",
              "Dew point temperature(°C)    0\n",
              "Solar Radiation (MJ/m2)      0\n",
              "Rainfall(mm)                 0\n",
              "Snowfall (cm)                0\n",
              "Seasons                      0\n",
              "Holiday                      0\n",
              "Functioning Day              0\n",
              "dtype: int64"
            ]
          },
          "metadata": {
            "tags": []
          },
          "execution_count": 1053
        }
      ]
    },
    {
      "cell_type": "markdown",
      "metadata": {
        "id": "255tHzSTlmAk"
      },
      "source": [
        "There is no missing value in dataset"
      ]
    },
    {
      "cell_type": "code",
      "metadata": {
        "id": "i6yXMNfvlJhV"
      },
      "source": [
        "# Datatype of Date is object, need to change in date formate\n",
        "df['Date']=pd.to_datetime(df['Date'],format=\"%d/%m/%Y\")"
      ],
      "execution_count": null,
      "outputs": []
    },
    {
      "cell_type": "code",
      "metadata": {
        "id": "dcMKPBMT_zwX"
      },
      "source": [
        ""
      ],
      "execution_count": null,
      "outputs": []
    },
    {
      "cell_type": "code",
      "metadata": {
        "colab": {
          "base_uri": "https://localhost:8080/"
        },
        "id": "VAiB0LbgpMZC",
        "outputId": "108cd400-1b0b-4e83-f90a-d8ebac948952"
      },
      "source": [
        "\n",
        "df.info()"
      ],
      "execution_count": null,
      "outputs": [
        {
          "output_type": "stream",
          "text": [
            "<class 'pandas.core.frame.DataFrame'>\n",
            "RangeIndex: 8760 entries, 0 to 8759\n",
            "Data columns (total 14 columns):\n",
            " #   Column                     Non-Null Count  Dtype         \n",
            "---  ------                     --------------  -----         \n",
            " 0   Date                       8760 non-null   datetime64[ns]\n",
            " 1   Rented Bike Count          8760 non-null   int64         \n",
            " 2   Hour                       8760 non-null   int64         \n",
            " 3   Temperature(°C)            8760 non-null   float64       \n",
            " 4   Humidity(%)                8760 non-null   int64         \n",
            " 5   Wind speed (m/s)           8760 non-null   float64       \n",
            " 6   Visibility (10m)           8760 non-null   int64         \n",
            " 7   Dew point temperature(°C)  8760 non-null   float64       \n",
            " 8   Solar Radiation (MJ/m2)    8760 non-null   float64       \n",
            " 9   Rainfall(mm)               8760 non-null   float64       \n",
            " 10  Snowfall (cm)              8760 non-null   float64       \n",
            " 11  Seasons                    8760 non-null   object        \n",
            " 12  Holiday                    8760 non-null   object        \n",
            " 13  Functioning Day            8760 non-null   object        \n",
            "dtypes: datetime64[ns](1), float64(6), int64(4), object(3)\n",
            "memory usage: 958.2+ KB\n"
          ],
          "name": "stdout"
        }
      ]
    },
    {
      "cell_type": "code",
      "metadata": {
        "colab": {
          "base_uri": "https://localhost:8080/",
          "height": 323
        },
        "id": "kvB14EMwWvLx",
        "outputId": "8518f8f9-40f2-40ef-ce92-1e263d8349af"
      },
      "source": [
        "df.head()"
      ],
      "execution_count": null,
      "outputs": [
        {
          "output_type": "execute_result",
          "data": {
            "text/html": [
              "<div>\n",
              "<style scoped>\n",
              "    .dataframe tbody tr th:only-of-type {\n",
              "        vertical-align: middle;\n",
              "    }\n",
              "\n",
              "    .dataframe tbody tr th {\n",
              "        vertical-align: top;\n",
              "    }\n",
              "\n",
              "    .dataframe thead th {\n",
              "        text-align: right;\n",
              "    }\n",
              "</style>\n",
              "<table border=\"1\" class=\"dataframe\">\n",
              "  <thead>\n",
              "    <tr style=\"text-align: right;\">\n",
              "      <th></th>\n",
              "      <th>Date</th>\n",
              "      <th>Rented Bike Count</th>\n",
              "      <th>Hour</th>\n",
              "      <th>Temperature(°C)</th>\n",
              "      <th>Humidity(%)</th>\n",
              "      <th>Wind speed (m/s)</th>\n",
              "      <th>Visibility (10m)</th>\n",
              "      <th>Dew point temperature(°C)</th>\n",
              "      <th>Solar Radiation (MJ/m2)</th>\n",
              "      <th>Rainfall(mm)</th>\n",
              "      <th>Snowfall (cm)</th>\n",
              "      <th>Seasons</th>\n",
              "      <th>Holiday</th>\n",
              "      <th>Functioning Day</th>\n",
              "    </tr>\n",
              "  </thead>\n",
              "  <tbody>\n",
              "    <tr>\n",
              "      <th>0</th>\n",
              "      <td>2017-12-01</td>\n",
              "      <td>254</td>\n",
              "      <td>0</td>\n",
              "      <td>-5.2</td>\n",
              "      <td>37</td>\n",
              "      <td>2.2</td>\n",
              "      <td>2000</td>\n",
              "      <td>-17.6</td>\n",
              "      <td>0.0</td>\n",
              "      <td>0.0</td>\n",
              "      <td>0.0</td>\n",
              "      <td>Winter</td>\n",
              "      <td>No Holiday</td>\n",
              "      <td>Yes</td>\n",
              "    </tr>\n",
              "    <tr>\n",
              "      <th>1</th>\n",
              "      <td>2017-12-01</td>\n",
              "      <td>204</td>\n",
              "      <td>1</td>\n",
              "      <td>-5.5</td>\n",
              "      <td>38</td>\n",
              "      <td>0.8</td>\n",
              "      <td>2000</td>\n",
              "      <td>-17.6</td>\n",
              "      <td>0.0</td>\n",
              "      <td>0.0</td>\n",
              "      <td>0.0</td>\n",
              "      <td>Winter</td>\n",
              "      <td>No Holiday</td>\n",
              "      <td>Yes</td>\n",
              "    </tr>\n",
              "    <tr>\n",
              "      <th>2</th>\n",
              "      <td>2017-12-01</td>\n",
              "      <td>173</td>\n",
              "      <td>2</td>\n",
              "      <td>-6.0</td>\n",
              "      <td>39</td>\n",
              "      <td>1.0</td>\n",
              "      <td>2000</td>\n",
              "      <td>-17.7</td>\n",
              "      <td>0.0</td>\n",
              "      <td>0.0</td>\n",
              "      <td>0.0</td>\n",
              "      <td>Winter</td>\n",
              "      <td>No Holiday</td>\n",
              "      <td>Yes</td>\n",
              "    </tr>\n",
              "    <tr>\n",
              "      <th>3</th>\n",
              "      <td>2017-12-01</td>\n",
              "      <td>107</td>\n",
              "      <td>3</td>\n",
              "      <td>-6.2</td>\n",
              "      <td>40</td>\n",
              "      <td>0.9</td>\n",
              "      <td>2000</td>\n",
              "      <td>-17.6</td>\n",
              "      <td>0.0</td>\n",
              "      <td>0.0</td>\n",
              "      <td>0.0</td>\n",
              "      <td>Winter</td>\n",
              "      <td>No Holiday</td>\n",
              "      <td>Yes</td>\n",
              "    </tr>\n",
              "    <tr>\n",
              "      <th>4</th>\n",
              "      <td>2017-12-01</td>\n",
              "      <td>78</td>\n",
              "      <td>4</td>\n",
              "      <td>-6.0</td>\n",
              "      <td>36</td>\n",
              "      <td>2.3</td>\n",
              "      <td>2000</td>\n",
              "      <td>-18.6</td>\n",
              "      <td>0.0</td>\n",
              "      <td>0.0</td>\n",
              "      <td>0.0</td>\n",
              "      <td>Winter</td>\n",
              "      <td>No Holiday</td>\n",
              "      <td>Yes</td>\n",
              "    </tr>\n",
              "  </tbody>\n",
              "</table>\n",
              "</div>"
            ],
            "text/plain": [
              "        Date  Rented Bike Count  Hour  ...  Seasons     Holiday  Functioning Day\n",
              "0 2017-12-01                254     0  ...   Winter  No Holiday              Yes\n",
              "1 2017-12-01                204     1  ...   Winter  No Holiday              Yes\n",
              "2 2017-12-01                173     2  ...   Winter  No Holiday              Yes\n",
              "3 2017-12-01                107     3  ...   Winter  No Holiday              Yes\n",
              "4 2017-12-01                 78     4  ...   Winter  No Holiday              Yes\n",
              "\n",
              "[5 rows x 14 columns]"
            ]
          },
          "metadata": {
            "tags": []
          },
          "execution_count": 1056
        }
      ]
    },
    {
      "cell_type": "markdown",
      "metadata": {
        "id": "mqyIuFQ0BCdl"
      },
      "source": [
        "Creating day and night variable"
      ]
    },
    {
      "cell_type": "code",
      "metadata": {
        "colab": {
          "base_uri": "https://localhost:8080/"
        },
        "id": "IA1XU4gXXU0y",
        "outputId": "d88504c7-c63c-4b6d-d13f-4c4d6535522d"
      },
      "source": [
        "\n",
        "df[\"label_day_night\"]=df[\"Hour\"].apply(lambda x: 'Night' if(x>20 or x< 5) else ('Day'))\n",
        "\n",
        "df[\"label_day_night\"].value_counts()"
      ],
      "execution_count": null,
      "outputs": [
        {
          "output_type": "execute_result",
          "data": {
            "text/plain": [
              "Day      5840\n",
              "Night    2920\n",
              "Name: label_day_night, dtype: int64"
            ]
          },
          "metadata": {
            "tags": []
          },
          "execution_count": 1057
        }
      ]
    },
    {
      "cell_type": "markdown",
      "metadata": {
        "id": "OzmxhCkjBy4B"
      },
      "source": [
        "creating weekday features"
      ]
    },
    {
      "cell_type": "code",
      "metadata": {
        "id": "be3FxK-vBvz5"
      },
      "source": [
        "df['WeekDay']=df[\"Date\"].dt.day_name()"
      ],
      "execution_count": null,
      "outputs": []
    },
    {
      "cell_type": "markdown",
      "metadata": {
        "id": "PXF3p_j-B2qN"
      },
      "source": [
        "creating month feature"
      ]
    },
    {
      "cell_type": "code",
      "metadata": {
        "id": "hvOvAd2_B5fK"
      },
      "source": [
        "df[\"Month\"]=df[\"Date\"].dt.month_name()\n",
        "df[\"year\"]=df[\"Date\"].dt.year"
      ],
      "execution_count": null,
      "outputs": []
    },
    {
      "cell_type": "code",
      "metadata": {
        "colab": {
          "base_uri": "https://localhost:8080/"
        },
        "id": "4VMHVTTEBhoL",
        "outputId": "b70b823e-fcc6-4d3f-82e5-c0ae787ed1d4"
      },
      "source": [
        "\n",
        "df[\"Seasons\"].value_counts()"
      ],
      "execution_count": null,
      "outputs": [
        {
          "output_type": "execute_result",
          "data": {
            "text/plain": [
              "Summer    2208\n",
              "Spring    2208\n",
              "Autumn    2184\n",
              "Winter    2160\n",
              "Name: Seasons, dtype: int64"
            ]
          },
          "metadata": {
            "tags": []
          },
          "execution_count": 1060
        }
      ]
    },
    {
      "cell_type": "code",
      "metadata": {
        "colab": {
          "base_uri": "https://localhost:8080/"
        },
        "id": "_IdQ_MSEXtk1",
        "outputId": "69cc9245-42c7-4948-95f5-b030e3924955"
      },
      "source": [
        "df[\"Holiday\"].value_counts()"
      ],
      "execution_count": null,
      "outputs": [
        {
          "output_type": "execute_result",
          "data": {
            "text/plain": [
              "No Holiday    8328\n",
              "Holiday        432\n",
              "Name: Holiday, dtype: int64"
            ]
          },
          "metadata": {
            "tags": []
          },
          "execution_count": 1061
        }
      ]
    },
    {
      "cell_type": "code",
      "metadata": {
        "colab": {
          "base_uri": "https://localhost:8080/"
        },
        "id": "DsguzJZfYAn4",
        "outputId": "38b7e31e-dab5-4c43-e12f-6b4850be446c"
      },
      "source": [
        "df[\"Functioning Day\"].value_counts()"
      ],
      "execution_count": null,
      "outputs": [
        {
          "output_type": "execute_result",
          "data": {
            "text/plain": [
              "Yes    8465\n",
              "No      295\n",
              "Name: Functioning Day, dtype: int64"
            ]
          },
          "metadata": {
            "tags": []
          },
          "execution_count": 1062
        }
      ]
    },
    {
      "cell_type": "code",
      "metadata": {
        "id": "eyK_NdjVXJUx"
      },
      "source": [
        "# dropping unneccesary column\n",
        "df=df.drop([\"Solar Radiation (MJ/m2)\"], axis=1)"
      ],
      "execution_count": null,
      "outputs": []
    },
    {
      "cell_type": "code",
      "metadata": {
        "id": "FpSOSSp6YNyR"
      },
      "source": [
        ""
      ],
      "execution_count": null,
      "outputs": []
    },
    {
      "cell_type": "code",
      "metadata": {
        "colab": {
          "base_uri": "https://localhost:8080/"
        },
        "id": "gkWqkyfMYbkG",
        "outputId": "ccbdee87-b9b2-48ff-a4e7-240f8c8a45e5"
      },
      "source": [
        "df.info()"
      ],
      "execution_count": null,
      "outputs": [
        {
          "output_type": "stream",
          "text": [
            "<class 'pandas.core.frame.DataFrame'>\n",
            "RangeIndex: 8760 entries, 0 to 8759\n",
            "Data columns (total 17 columns):\n",
            " #   Column                     Non-Null Count  Dtype         \n",
            "---  ------                     --------------  -----         \n",
            " 0   Date                       8760 non-null   datetime64[ns]\n",
            " 1   Rented Bike Count          8760 non-null   int64         \n",
            " 2   Hour                       8760 non-null   int64         \n",
            " 3   Temperature(°C)            8760 non-null   float64       \n",
            " 4   Humidity(%)                8760 non-null   int64         \n",
            " 5   Wind speed (m/s)           8760 non-null   float64       \n",
            " 6   Visibility (10m)           8760 non-null   int64         \n",
            " 7   Dew point temperature(°C)  8760 non-null   float64       \n",
            " 8   Rainfall(mm)               8760 non-null   float64       \n",
            " 9   Snowfall (cm)              8760 non-null   float64       \n",
            " 10  Seasons                    8760 non-null   object        \n",
            " 11  Holiday                    8760 non-null   object        \n",
            " 12  Functioning Day            8760 non-null   object        \n",
            " 13  label_day_night            8760 non-null   object        \n",
            " 14  WeekDay                    8760 non-null   object        \n",
            " 15  Month                      8760 non-null   object        \n",
            " 16  year                       8760 non-null   int64         \n",
            "dtypes: datetime64[ns](1), float64(5), int64(5), object(6)\n",
            "memory usage: 1.1+ MB\n"
          ],
          "name": "stdout"
        }
      ]
    },
    {
      "cell_type": "code",
      "metadata": {
        "id": "F4X4_ndVf4BA"
      },
      "source": [
        "#sns.pairplot(df)"
      ],
      "execution_count": null,
      "outputs": []
    },
    {
      "cell_type": "code",
      "metadata": {
        "id": "mpNxrCfjhg9t"
      },
      "source": [
        "\n",
        "\n"
      ],
      "execution_count": null,
      "outputs": []
    },
    {
      "cell_type": "code",
      "metadata": {
        "colab": {
          "base_uri": "https://localhost:8080/",
          "height": 772
        },
        "id": "odipwE9phiTE",
        "outputId": "13a89989-4b8d-430f-d635-ef924380f491"
      },
      "source": [
        "# visualizing categorical variable\n",
        "plt.figure(figsize=(8, 10))\n",
        "plt.subplot(3,2,1)\n",
        "sns.boxplot(x = 'Seasons', y = 'Rented Bike Count', data = df)\n",
        "plt.subplot(3,2,2)\n",
        "sns.boxplot(x = 'Holiday', y = 'Rented Bike Count', data = df)\n",
        "plt.subplot(3,2,3)\n",
        "sns.boxplot(x = 'year', y = 'Rented Bike Count', data = df)\n",
        "plt.subplot(3,2,4)\n",
        "sns.boxplot(x = 'label_day_night', y = 'Rented Bike Count', data = df)\n",
        "\n",
        "plt.subplot(3,2,5)\n",
        "g=sns.boxplot(x = 'WeekDay', y = 'Rented Bike Count', data = df)\n",
        "plt.subplot(3,2,6)\n",
        "\n",
        "ax=sns.boxplot(x = 'Month', y = 'Rented Bike Count', data = df)\n",
        "ax.set_xticklabels(ax.get_xticklabels(),rotation=90)\n",
        "g.set_xticklabels(g.get_xticklabels(),rotation=90)"
      ],
      "execution_count": null,
      "outputs": [
        {
          "output_type": "execute_result",
          "data": {
            "text/plain": [
              "[Text(0, 0, 'Friday'),\n",
              " Text(0, 0, 'Saturday'),\n",
              " Text(0, 0, 'Sunday'),\n",
              " Text(0, 0, 'Monday'),\n",
              " Text(0, 0, 'Tuesday'),\n",
              " Text(0, 0, 'Wednesday'),\n",
              " Text(0, 0, 'Thursday')]"
            ]
          },
          "metadata": {
            "tags": []
          },
          "execution_count": 1066
        },
        {
          "output_type": "display_data",
          "data": {
            "image/png": "[encoded data removed]",
            "text/plain": [
              "<Figure size 576x720 with 6 Axes>"
            ]
          },
          "metadata": {
            "tags": [],
            "needs_background": "light"
          }
        }
      ]
    },
    {
      "cell_type": "code",
      "metadata": {
        "colab": {
          "base_uri": "https://localhost:8080/",
          "height": 296
        },
        "id": "q9PHGxbnhLVK",
        "outputId": "a093f2b8-b1a3-48d8-e547-d14df0aac486"
      },
      "source": [
        "sns.boxplot(x = 'Hour', y = 'Rented Bike Count', data = df)"
      ],
      "execution_count": null,
      "outputs": [
        {
          "output_type": "execute_result",
          "data": {
            "text/plain": [
              "<matplotlib.axes._subplots.AxesSubplot at 0x7f4039ba2a50>"
            ]
          },
          "metadata": {
            "tags": []
          },
          "execution_count": 1067
        },
        {
          "output_type": "display_data",
          "data": {
            "image/png": "[encoded data removed]",
            "text/plain": [
              "<Figure size 432x288 with 1 Axes>"
            ]
          },
          "metadata": {
            "tags": [],
            "needs_background": "light"
          }
        }
      ]
    },
    {
      "cell_type": "code",
      "metadata": {
        "colab": {
          "base_uri": "https://localhost:8080/",
          "height": 145
        },
        "id": "mjer8LpRFSkS",
        "outputId": "f35f7f1d-c0e8-40f3-b991-bc40851c7503"
      },
      "source": [
        "df_Seasons=pd.DataFrame(df.groupby('Seasons').sum()['Rented Bike Count'].sort_values(ascending=False))\n",
        "df_Seasons.style.background_gradient(cmap=sns.light_palette(\"orange\", as_cmap=True))"
      ],
      "execution_count": null,
      "outputs": [
        {
          "output_type": "execute_result",
          "data": {
            "text/html": [
              "<style  type=\"text/css\" >\n",
              "#T_c1b46b28_eab9_11eb_b2c2_0242ac1c0002row0_col0{\n",
              "            background-color:  #ffa500;\n",
              "            color:  #000000;\n",
              "        }#T_c1b46b28_eab9_11eb_b2c2_0242ac1c0002row1_col0{\n",
              "            background-color:  #fcba41;\n",
              "            color:  #000000;\n",
              "        }#T_c1b46b28_eab9_11eb_b2c2_0242ac1c0002row2_col0{\n",
              "            background-color:  #fac159;\n",
              "            color:  #000000;\n",
              "        }#T_c1b46b28_eab9_11eb_b2c2_0242ac1c0002row3_col0{\n",
              "            background-color:  #f3f0ee;\n",
              "            color:  #000000;\n",
              "        }</style><table id=\"T_c1b46b28_eab9_11eb_b2c2_0242ac1c0002\" ><thead>    <tr>        <th class=\"blank level0\" ></th>        <th class=\"col_heading level0 col0\" >Rented Bike Count</th>    </tr>    <tr>        <th class=\"index_name level0\" >Seasons</th>        <th class=\"blank\" ></th>    </tr></thead><tbody>\n",
              "                <tr>\n",
              "                        <th id=\"T_c1b46b28_eab9_11eb_b2c2_0242ac1c0002level0_row0\" class=\"row_heading level0 row0\" >Summer</th>\n",
              "                        <td id=\"T_c1b46b28_eab9_11eb_b2c2_0242ac1c0002row0_col0\" class=\"data row0 col0\" >2283234</td>\n",
              "            </tr>\n",
              "            <tr>\n",
              "                        <th id=\"T_c1b46b28_eab9_11eb_b2c2_0242ac1c0002level0_row1\" class=\"row_heading level0 row1\" >Autumn</th>\n",
              "                        <td id=\"T_c1b46b28_eab9_11eb_b2c2_0242ac1c0002row1_col0\" class=\"data row1 col0\" >1790002</td>\n",
              "            </tr>\n",
              "            <tr>\n",
              "                        <th id=\"T_c1b46b28_eab9_11eb_b2c2_0242ac1c0002level0_row2\" class=\"row_heading level0 row2\" >Spring</th>\n",
              "                        <td id=\"T_c1b46b28_eab9_11eb_b2c2_0242ac1c0002row2_col0\" class=\"data row2 col0\" >1611909</td>\n",
              "            </tr>\n",
              "            <tr>\n",
              "                        <th id=\"T_c1b46b28_eab9_11eb_b2c2_0242ac1c0002level0_row3\" class=\"row_heading level0 row3\" >Winter</th>\n",
              "                        <td id=\"T_c1b46b28_eab9_11eb_b2c2_0242ac1c0002row3_col0\" class=\"data row3 col0\" >487169</td>\n",
              "            </tr>\n",
              "    </tbody></table>"
            ],
            "text/plain": [
              "<pandas.io.formats.style.Styler at 0x7f403732ded0>"
            ]
          },
          "metadata": {
            "tags": []
          },
          "execution_count": 1068
        }
      ]
    },
    {
      "cell_type": "code",
      "metadata": {
        "colab": {
          "base_uri": "https://localhost:8080/",
          "height": 265
        },
        "id": "gq0HG_64E-sy",
        "outputId": "c0082f2c-58c4-4821-f1be-b161bb4ad9f3"
      },
      "source": [
        "\n",
        "df.groupby('Seasons').sum()['Rented Bike Count'].plot.pie()"
      ],
      "execution_count": null,
      "outputs": [
        {
          "output_type": "execute_result",
          "data": {
            "text/plain": [
              "<matplotlib.axes._subplots.AxesSubplot at 0x7f403733aa50>"
            ]
          },
          "metadata": {
            "tags": []
          },
          "execution_count": 1069
        },
        {
          "output_type": "display_data",
          "data": {
            "image/png": "[encoded data removed]",
            "text/plain": [
              "<Figure size 432x288 with 1 Axes>"
            ]
          },
          "metadata": {
            "tags": []
          }
        }
      ]
    },
    {
      "cell_type": "code",
      "metadata": {
        "colab": {
          "base_uri": "https://localhost:8080/",
          "height": 296
        },
        "id": "AY7BV4idEOet",
        "outputId": "78b6635c-5f51-45fe-b2a2-798c92e82a61"
      },
      "source": [
        "df.groupby('Hour').sum()['Rented Bike Count'].plot.bar()\n",
        "df.groupby('Hour').sum()['Rented Bike Count'].plot()"
      ],
      "execution_count": null,
      "outputs": [
        {
          "output_type": "execute_result",
          "data": {
            "text/plain": [
              "<matplotlib.axes._subplots.AxesSubplot at 0x7f403f429a10>"
            ]
          },
          "metadata": {
            "tags": []
          },
          "execution_count": 1070
        },
        {
          "output_type": "display_data",
          "data": {
            "image/png": "[encoded data removed]",
            "text/plain": [
              "<Figure size 432x288 with 1 Axes>"
            ]
          },
          "metadata": {
            "tags": [],
            "needs_background": "light"
          }
        }
      ]
    },
    {
      "cell_type": "code",
      "metadata": {
        "colab": {
          "base_uri": "https://localhost:8080/",
          "height": 404
        },
        "id": "vHbyk3K8Mdbx",
        "outputId": "55de3868-b904-4e98-800e-780b88c3af1c"
      },
      "source": [
        "# seaborn boxplots across hours\n",
        "f, axes = plt.subplots(1, 1, figsize=(15, 6))\n",
        "sns.boxplot(data=df, y='Rented Bike Count', x='Hour', hue='Holiday', ax=axes)\n",
        "handles, _ = axes.get_legend_handles_labels()\n",
        "axes.legend(handles, ['Not Functioning Day', 'Functioning Day'])\n",
        "axes.set(title='Hourly Count based on Working day or not')\n",
        "\n",
        "plt.show()"
      ],
      "execution_count": null,
      "outputs": [
        {
          "output_type": "display_data",
          "data": {
            "image/png": "[encoded data removed]",
            "text/plain": [
              "<Figure size 1080x432 with 1 Axes>"
            ]
          },
          "metadata": {
            "tags": [],
            "needs_background": "light"
          }
        }
      ]
    },
    {
      "cell_type": "code",
      "metadata": {
        "id": "q__yI1rXbfMs"
      },
      "source": [
        ""
      ],
      "execution_count": null,
      "outputs": []
    },
    {
      "cell_type": "code",
      "metadata": {
        "id": "4s-iTtTsjN3b",
        "colab": {
          "base_uri": "https://localhost:8080/",
          "height": 613
        },
        "outputId": "d66a6552-5161-45fd-c11d-e4d07170f165"
      },
      "source": [
        "# checking correlation\n",
        "plt.figure(figsize = (10, 8))\n",
        "sns.heatmap(df.corr(), annot = True)\n",
        "plt.show()"
      ],
      "execution_count": null,
      "outputs": [
        {
          "output_type": "display_data",
          "data": {
            "image/png": "[encoded data removed]",
            "text/plain": [
              "<Figure size 720x576 with 2 Axes>"
            ]
          },
          "metadata": {
            "tags": [],
            "needs_background": "light"
          }
        }
      ]
    },
    {
      "cell_type": "code",
      "metadata": {
        "id": "1u7-5xmDqgJG"
      },
      "source": [
        "df=df.drop([\"Dew point temperature(°C)\"], axis=1)"
      ],
      "execution_count": null,
      "outputs": []
    },
    {
      "cell_type": "code",
      "metadata": {
        "colab": {
          "base_uri": "https://localhost:8080/",
          "height": 229
        },
        "id": "w9zrJXcR-HbW",
        "outputId": "18650a11-8092-49a9-94d2-432a8d47187b"
      },
      "source": [
        "df1Corr=pd.DataFrame(df.corr().unstack().sort_values(ascending=False)['Rented Bike Count'],columns=['Correlation value to the target'])\n",
        "df1Corr.style.background_gradient(cmap=sns.light_palette(\"green\", as_cmap=True))"
      ],
      "execution_count": null,
      "outputs": [
        {
          "output_type": "execute_result",
          "data": {
            "text/html": [
              "<style  type=\"text/css\" >\n",
              "#T_c311597c_eab9_11eb_b2c2_0242ac1c0002row0_col0{\n",
              "            background-color:  #008000;\n",
              "            color:  #f1f1f1;\n",
              "        }#T_c311597c_eab9_11eb_b2c2_0242ac1c0002row1_col0{\n",
              "            background-color:  #5aac5a;\n",
              "            color:  #000000;\n",
              "        }#T_c311597c_eab9_11eb_b2c2_0242ac1c0002row2_col0{\n",
              "            background-color:  #73b873;\n",
              "            color:  #000000;\n",
              "        }#T_c311597c_eab9_11eb_b2c2_0242ac1c0002row3_col0{\n",
              "            background-color:  #9acb9a;\n",
              "            color:  #000000;\n",
              "        }#T_c311597c_eab9_11eb_b2c2_0242ac1c0002row4_col0{\n",
              "            background-color:  #9ccd9c;\n",
              "            color:  #000000;\n",
              "        }#T_c311597c_eab9_11eb_b2c2_0242ac1c0002row5_col0{\n",
              "            background-color:  #acd4ac;\n",
              "            color:  #000000;\n",
              "        }#T_c311597c_eab9_11eb_b2c2_0242ac1c0002row6_col0{\n",
              "            background-color:  #dcecdc;\n",
              "            color:  #000000;\n",
              "        }#T_c311597c_eab9_11eb_b2c2_0242ac1c0002row7_col0{\n",
              "            background-color:  #e0eedf;\n",
              "            color:  #000000;\n",
              "        }#T_c311597c_eab9_11eb_b2c2_0242ac1c0002row8_col0{\n",
              "            background-color:  #ebf3eb;\n",
              "            color:  #000000;\n",
              "        }</style><table id=\"T_c311597c_eab9_11eb_b2c2_0242ac1c0002\" ><thead>    <tr>        <th class=\"blank level0\" ></th>        <th class=\"col_heading level0 col0\" >Correlation value to the target</th>    </tr></thead><tbody>\n",
              "                <tr>\n",
              "                        <th id=\"T_c311597c_eab9_11eb_b2c2_0242ac1c0002level0_row0\" class=\"row_heading level0 row0\" >Rented Bike Count</th>\n",
              "                        <td id=\"T_c311597c_eab9_11eb_b2c2_0242ac1c0002row0_col0\" class=\"data row0 col0\" >1.000000</td>\n",
              "            </tr>\n",
              "            <tr>\n",
              "                        <th id=\"T_c311597c_eab9_11eb_b2c2_0242ac1c0002level0_row1\" class=\"row_heading level0 row1\" >Temperature(°C)</th>\n",
              "                        <td id=\"T_c311597c_eab9_11eb_b2c2_0242ac1c0002row1_col0\" class=\"data row1 col0\" >0.538558</td>\n",
              "            </tr>\n",
              "            <tr>\n",
              "                        <th id=\"T_c311597c_eab9_11eb_b2c2_0242ac1c0002level0_row2\" class=\"row_heading level0 row2\" >Hour</th>\n",
              "                        <td id=\"T_c311597c_eab9_11eb_b2c2_0242ac1c0002row2_col0\" class=\"data row2 col0\" >0.410257</td>\n",
              "            </tr>\n",
              "            <tr>\n",
              "                        <th id=\"T_c311597c_eab9_11eb_b2c2_0242ac1c0002level0_row3\" class=\"row_heading level0 row3\" >year</th>\n",
              "                        <td id=\"T_c311597c_eab9_11eb_b2c2_0242ac1c0002row3_col0\" class=\"data row3 col0\" >0.215162</td>\n",
              "            </tr>\n",
              "            <tr>\n",
              "                        <th id=\"T_c311597c_eab9_11eb_b2c2_0242ac1c0002level0_row4\" class=\"row_heading level0 row4\" >Visibility (10m)</th>\n",
              "                        <td id=\"T_c311597c_eab9_11eb_b2c2_0242ac1c0002row4_col0\" class=\"data row4 col0\" >0.199280</td>\n",
              "            </tr>\n",
              "            <tr>\n",
              "                        <th id=\"T_c311597c_eab9_11eb_b2c2_0242ac1c0002level0_row5\" class=\"row_heading level0 row5\" >Wind speed (m/s)</th>\n",
              "                        <td id=\"T_c311597c_eab9_11eb_b2c2_0242ac1c0002row5_col0\" class=\"data row5 col0\" >0.121108</td>\n",
              "            </tr>\n",
              "            <tr>\n",
              "                        <th id=\"T_c311597c_eab9_11eb_b2c2_0242ac1c0002level0_row6\" class=\"row_heading level0 row6\" >Rainfall(mm)</th>\n",
              "                        <td id=\"T_c311597c_eab9_11eb_b2c2_0242ac1c0002row6_col0\" class=\"data row6 col0\" >-0.123074</td>\n",
              "            </tr>\n",
              "            <tr>\n",
              "                        <th id=\"T_c311597c_eab9_11eb_b2c2_0242ac1c0002level0_row7\" class=\"row_heading level0 row7\" >Snowfall (cm)</th>\n",
              "                        <td id=\"T_c311597c_eab9_11eb_b2c2_0242ac1c0002row7_col0\" class=\"data row7 col0\" >-0.141804</td>\n",
              "            </tr>\n",
              "            <tr>\n",
              "                        <th id=\"T_c311597c_eab9_11eb_b2c2_0242ac1c0002level0_row8\" class=\"row_heading level0 row8\" >Humidity(%)</th>\n",
              "                        <td id=\"T_c311597c_eab9_11eb_b2c2_0242ac1c0002row8_col0\" class=\"data row8 col0\" >-0.199780</td>\n",
              "            </tr>\n",
              "    </tbody></table>"
            ],
            "text/plain": [
              "<pandas.io.formats.style.Styler at 0x7f403dc40410>"
            ]
          },
          "metadata": {
            "tags": []
          },
          "execution_count": 1074
        }
      ]
    },
    {
      "cell_type": "code",
      "metadata": {
        "id": "RncQHDdQHWk4"
      },
      "source": [
        ""
      ],
      "execution_count": null,
      "outputs": []
    },
    {
      "cell_type": "code",
      "metadata": {
        "id": "RL55FlaYkOAM"
      },
      "source": [
        "# Create dummy variables for the catgeorical variable State\n",
        "status = pd.get_dummies(df['Seasons'], drop_first=True)\n",
        "status1 = pd.get_dummies(df['Holiday'], drop_first=True)\n",
        "status2 = pd.get_dummies(df['Functioning Day'], drop_first=True)\n",
        "status3 = pd.get_dummies(df['WeekDay'], drop_first=True)\n",
        "status4 = pd.get_dummies(df['Month'], drop_first=True)\n",
        "status5 = pd.get_dummies(df['label_day_night'], drop_first=True)"
      ],
      "execution_count": null,
      "outputs": []
    },
    {
      "cell_type": "markdown",
      "metadata": {
        "id": "6JVdI5SCFiJZ"
      },
      "source": [
        ""
      ]
    },
    {
      "cell_type": "code",
      "metadata": {
        "id": "JTTQwedjksIi"
      },
      "source": [
        "df1=pd.concat([df,status,status1, status2, status3, status4, status5], axis =1)"
      ],
      "execution_count": null,
      "outputs": []
    },
    {
      "cell_type": "code",
      "metadata": {
        "id": "hti53gaWk4qX"
      },
      "source": [
        "# Drop the original column State from the dataframe\n",
        "df1=df.drop([\"Holiday\",\"Seasons\",\"Functioning Day\", \"WeekDay\",\"Month\", \"label_day_night\",'Date'], axis=1, inplace=True)"
      ],
      "execution_count": null,
      "outputs": []
    },
    {
      "cell_type": "code",
      "metadata": {
        "id": "ugEaSMEHlWCt"
      },
      "source": [
        "df1=df.head()"
      ],
      "execution_count": null,
      "outputs": []
    },
    {
      "cell_type": "code",
      "metadata": {
        "id": "UuBPhhPq7Nzq"
      },
      "source": [
        ""
      ],
      "execution_count": null,
      "outputs": []
    },
    {
      "cell_type": "code",
      "metadata": {
        "id": "BxMVdrWWlc1g",
        "colab": {
          "base_uri": "https://localhost:8080/"
        },
        "outputId": "533207c2-6eac-417e-fcfd-e8996a4bf9eb"
      },
      "source": [
        "df.info()"
      ],
      "execution_count": null,
      "outputs": [
        {
          "output_type": "stream",
          "text": [
            "<class 'pandas.core.frame.DataFrame'>\n",
            "RangeIndex: 8760 entries, 0 to 8759\n",
            "Data columns (total 9 columns):\n",
            " #   Column             Non-Null Count  Dtype  \n",
            "---  ------             --------------  -----  \n",
            " 0   Rented Bike Count  8760 non-null   int64  \n",
            " 1   Hour               8760 non-null   int64  \n",
            " 2   Temperature(°C)    8760 non-null   float64\n",
            " 3   Humidity(%)        8760 non-null   int64  \n",
            " 4   Wind speed (m/s)   8760 non-null   float64\n",
            " 5   Visibility (10m)   8760 non-null   int64  \n",
            " 6   Rainfall(mm)       8760 non-null   float64\n",
            " 7   Snowfall (cm)      8760 non-null   float64\n",
            " 8   year               8760 non-null   int64  \n",
            "dtypes: float64(4), int64(5)\n",
            "memory usage: 616.1 KB\n"
          ],
          "name": "stdout"
        }
      ]
    },
    {
      "cell_type": "code",
      "metadata": {
        "id": "Gl55EwZnIbIb"
      },
      "source": [
        "dependent_variable = 'Rented Bike Count'"
      ],
      "execution_count": null,
      "outputs": []
    },
    {
      "cell_type": "code",
      "metadata": {
        "colab": {
          "base_uri": "https://localhost:8080/"
        },
        "id": "XFZJqpf_Ieop",
        "outputId": "7a2ace5f-1114-415f-e4c1-b7517653ce85"
      },
      "source": [
        "# Create a list of independent variables\n",
        "independent_variables = list(set(df.columns.tolist()) - {dependent_variable})\n",
        "independent_variables"
      ],
      "execution_count": null,
      "outputs": [
        {
          "output_type": "execute_result",
          "data": {
            "text/plain": [
              "['Wind speed (m/s)',\n",
              " 'Hour',\n",
              " 'Temperature(°C)',\n",
              " 'Snowfall (cm)',\n",
              " 'Visibility (10m)',\n",
              " 'Humidity(%)',\n",
              " 'Rainfall(mm)',\n",
              " 'year']"
            ]
          },
          "metadata": {
            "tags": []
          },
          "execution_count": 1081
        }
      ]
    },
    {
      "cell_type": "code",
      "metadata": {
        "id": "PxXfCinGItuS"
      },
      "source": [
        "# Create the data of independent variables\n",
        "X = df[independent_variables].values\n"
      ],
      "execution_count": null,
      "outputs": []
    },
    {
      "cell_type": "code",
      "metadata": {
        "id": "0GXiqAQMIv-7"
      },
      "source": [
        "# Create the dependent variable data\n",
        "y = df[dependent_variable].values"
      ],
      "execution_count": null,
      "outputs": []
    },
    {
      "cell_type": "code",
      "metadata": {
        "colab": {
          "base_uri": "https://localhost:8080/",
          "height": 419
        },
        "id": "Rmg5II79I48b",
        "outputId": "89a2c6c7-1f93-4132-a395-54196b73ae12"
      },
      "source": [
        "df[independent_variables]"
      ],
      "execution_count": null,
      "outputs": [
        {
          "output_type": "execute_result",
          "data": {
            "text/html": [
              "<div>\n",
              "<style scoped>\n",
              "    .dataframe tbody tr th:only-of-type {\n",
              "        vertical-align: middle;\n",
              "    }\n",
              "\n",
              "    .dataframe tbody tr th {\n",
              "        vertical-align: top;\n",
              "    }\n",
              "\n",
              "    .dataframe thead th {\n",
              "        text-align: right;\n",
              "    }\n",
              "</style>\n",
              "<table border=\"1\" class=\"dataframe\">\n",
              "  <thead>\n",
              "    <tr style=\"text-align: right;\">\n",
              "      <th></th>\n",
              "      <th>Wind speed (m/s)</th>\n",
              "      <th>Hour</th>\n",
              "      <th>Temperature(°C)</th>\n",
              "      <th>Snowfall (cm)</th>\n",
              "      <th>Visibility (10m)</th>\n",
              "      <th>Humidity(%)</th>\n",
              "      <th>Rainfall(mm)</th>\n",
              "      <th>year</th>\n",
              "    </tr>\n",
              "  </thead>\n",
              "  <tbody>\n",
              "    <tr>\n",
              "      <th>0</th>\n",
              "      <td>2.2</td>\n",
              "      <td>0</td>\n",
              "      <td>-5.2</td>\n",
              "      <td>0.0</td>\n",
              "      <td>2000</td>\n",
              "      <td>37</td>\n",
              "      <td>0.0</td>\n",
              "      <td>2017</td>\n",
              "    </tr>\n",
              "    <tr>\n",
              "      <th>1</th>\n",
              "      <td>0.8</td>\n",
              "      <td>1</td>\n",
              "      <td>-5.5</td>\n",
              "      <td>0.0</td>\n",
              "      <td>2000</td>\n",
              "      <td>38</td>\n",
              "      <td>0.0</td>\n",
              "      <td>2017</td>\n",
              "    </tr>\n",
              "    <tr>\n",
              "      <th>2</th>\n",
              "      <td>1.0</td>\n",
              "      <td>2</td>\n",
              "      <td>-6.0</td>\n",
              "      <td>0.0</td>\n",
              "      <td>2000</td>\n",
              "      <td>39</td>\n",
              "      <td>0.0</td>\n",
              "      <td>2017</td>\n",
              "    </tr>\n",
              "    <tr>\n",
              "      <th>3</th>\n",
              "      <td>0.9</td>\n",
              "      <td>3</td>\n",
              "      <td>-6.2</td>\n",
              "      <td>0.0</td>\n",
              "      <td>2000</td>\n",
              "      <td>40</td>\n",
              "      <td>0.0</td>\n",
              "      <td>2017</td>\n",
              "    </tr>\n",
              "    <tr>\n",
              "      <th>4</th>\n",
              "      <td>2.3</td>\n",
              "      <td>4</td>\n",
              "      <td>-6.0</td>\n",
              "      <td>0.0</td>\n",
              "      <td>2000</td>\n",
              "      <td>36</td>\n",
              "      <td>0.0</td>\n",
              "      <td>2017</td>\n",
              "    </tr>\n",
              "    <tr>\n",
              "      <th>...</th>\n",
              "      <td>...</td>\n",
              "      <td>...</td>\n",
              "      <td>...</td>\n",
              "      <td>...</td>\n",
              "      <td>...</td>\n",
              "      <td>...</td>\n",
              "      <td>...</td>\n",
              "      <td>...</td>\n",
              "    </tr>\n",
              "    <tr>\n",
              "      <th>8755</th>\n",
              "      <td>2.6</td>\n",
              "      <td>19</td>\n",
              "      <td>4.2</td>\n",
              "      <td>0.0</td>\n",
              "      <td>1894</td>\n",
              "      <td>34</td>\n",
              "      <td>0.0</td>\n",
              "      <td>2018</td>\n",
              "    </tr>\n",
              "    <tr>\n",
              "      <th>8756</th>\n",
              "      <td>2.3</td>\n",
              "      <td>20</td>\n",
              "      <td>3.4</td>\n",
              "      <td>0.0</td>\n",
              "      <td>2000</td>\n",
              "      <td>37</td>\n",
              "      <td>0.0</td>\n",
              "      <td>2018</td>\n",
              "    </tr>\n",
              "    <tr>\n",
              "      <th>8757</th>\n",
              "      <td>0.3</td>\n",
              "      <td>21</td>\n",
              "      <td>2.6</td>\n",
              "      <td>0.0</td>\n",
              "      <td>1968</td>\n",
              "      <td>39</td>\n",
              "      <td>0.0</td>\n",
              "      <td>2018</td>\n",
              "    </tr>\n",
              "    <tr>\n",
              "      <th>8758</th>\n",
              "      <td>1.0</td>\n",
              "      <td>22</td>\n",
              "      <td>2.1</td>\n",
              "      <td>0.0</td>\n",
              "      <td>1859</td>\n",
              "      <td>41</td>\n",
              "      <td>0.0</td>\n",
              "      <td>2018</td>\n",
              "    </tr>\n",
              "    <tr>\n",
              "      <th>8759</th>\n",
              "      <td>1.3</td>\n",
              "      <td>23</td>\n",
              "      <td>1.9</td>\n",
              "      <td>0.0</td>\n",
              "      <td>1909</td>\n",
              "      <td>43</td>\n",
              "      <td>0.0</td>\n",
              "      <td>2018</td>\n",
              "    </tr>\n",
              "  </tbody>\n",
              "</table>\n",
              "<p>8760 rows × 8 columns</p>\n",
              "</div>"
            ],
            "text/plain": [
              "      Wind speed (m/s)  Hour  Temperature(°C)  ...  Humidity(%)  Rainfall(mm)  year\n",
              "0                  2.2     0             -5.2  ...           37           0.0  2017\n",
              "1                  0.8     1             -5.5  ...           38           0.0  2017\n",
              "2                  1.0     2             -6.0  ...           39           0.0  2017\n",
              "3                  0.9     3             -6.2  ...           40           0.0  2017\n",
              "4                  2.3     4             -6.0  ...           36           0.0  2017\n",
              "...                ...   ...              ...  ...          ...           ...   ...\n",
              "8755               2.6    19              4.2  ...           34           0.0  2018\n",
              "8756               2.3    20              3.4  ...           37           0.0  2018\n",
              "8757               0.3    21              2.6  ...           39           0.0  2018\n",
              "8758               1.0    22              2.1  ...           41           0.0  2018\n",
              "8759               1.3    23              1.9  ...           43           0.0  2018\n",
              "\n",
              "[8760 rows x 8 columns]"
            ]
          },
          "metadata": {
            "tags": []
          },
          "execution_count": 1084
        }
      ]
    },
    {
      "cell_type": "markdown",
      "metadata": {
        "id": "L2aFesUNmRGE"
      },
      "source": [
        "Splitting the Data into Training and Testing Sets\n"
      ]
    },
    {
      "cell_type": "code",
      "metadata": {
        "id": "SdXUOf3X2h9H"
      },
      "source": [
        "\n"
      ],
      "execution_count": null,
      "outputs": []
    },
    {
      "cell_type": "code",
      "metadata": {
        "id": "kEQRYY7hlneV"
      },
      "source": [
        "from sklearn.model_selection import train_test_split\n",
        "\n",
        "\n",
        "np.random.seed(0)\n",
        "X_train,y_train, X_test,y_test = train_test_split(X,y, test_size = 0.3, random_state = 100)\n"
      ],
      "execution_count": null,
      "outputs": []
    },
    {
      "cell_type": "code",
      "metadata": {
        "id": "WamD_WAB7Fgj"
      },
      "source": [
        "\n"
      ],
      "execution_count": null,
      "outputs": []
    },
    {
      "cell_type": "code",
      "metadata": {
        "colab": {
          "base_uri": "https://localhost:8080/",
          "height": 258
        },
        "id": "-wDNYVwN44C8",
        "outputId": "56c74434-cde7-4982-f956-1447f0f52eb3"
      },
      "source": [
        "num_vars = ['Temperature(°C)', 'Hour', 'Humidity(%)',\"Wind speed (m/s)\",\"Visibility (10m)\",\"Rainfall(mm)\",\"Snowfall (cm)\"]\n",
        "\n",
        "df_train[num_vars] = scaler.fit_transform(df_train[num_vars])\n",
        "\n",
        "df_train.head()"
      ],
      "execution_count": null,
      "outputs": [
        {
          "output_type": "execute_result",
          "data": {
            "text/html": [
              "<div>\n",
              "<style scoped>\n",
              "    .dataframe tbody tr th:only-of-type {\n",
              "        vertical-align: middle;\n",
              "    }\n",
              "\n",
              "    .dataframe tbody tr th {\n",
              "        vertical-align: top;\n",
              "    }\n",
              "\n",
              "    .dataframe thead th {\n",
              "        text-align: right;\n",
              "    }\n",
              "</style>\n",
              "<table border=\"1\" class=\"dataframe\">\n",
              "  <thead>\n",
              "    <tr style=\"text-align: right;\">\n",
              "      <th></th>\n",
              "      <th>Hour</th>\n",
              "      <th>Temperature(°C)</th>\n",
              "      <th>Humidity(%)</th>\n",
              "      <th>Wind speed (m/s)</th>\n",
              "      <th>Visibility (10m)</th>\n",
              "      <th>Rainfall(mm)</th>\n",
              "      <th>Snowfall (cm)</th>\n",
              "      <th>year</th>\n",
              "      <th>Spring</th>\n",
              "      <th>Summer</th>\n",
              "      <th>Winter</th>\n",
              "      <th>No Holiday</th>\n",
              "      <th>Yes</th>\n",
              "      <th>Monday</th>\n",
              "      <th>Saturday</th>\n",
              "      <th>Sunday</th>\n",
              "      <th>Thursday</th>\n",
              "      <th>Tuesday</th>\n",
              "      <th>Wednesday</th>\n",
              "      <th>August</th>\n",
              "      <th>December</th>\n",
              "      <th>February</th>\n",
              "      <th>January</th>\n",
              "      <th>July</th>\n",
              "      <th>June</th>\n",
              "      <th>March</th>\n",
              "      <th>May</th>\n",
              "      <th>November</th>\n",
              "      <th>October</th>\n",
              "      <th>September</th>\n",
              "      <th>Night</th>\n",
              "    </tr>\n",
              "  </thead>\n",
              "  <tbody>\n",
              "    <tr>\n",
              "      <th>5584</th>\n",
              "      <td>0.695652</td>\n",
              "      <td>0.955986</td>\n",
              "      <td>0.306122</td>\n",
              "      <td>0.378378</td>\n",
              "      <td>0.876330</td>\n",
              "      <td>0.0</td>\n",
              "      <td>0.0</td>\n",
              "      <td>2018</td>\n",
              "      <td>0</td>\n",
              "      <td>1</td>\n",
              "      <td>0</td>\n",
              "      <td>1</td>\n",
              "      <td>1</td>\n",
              "      <td>0</td>\n",
              "      <td>1</td>\n",
              "      <td>0</td>\n",
              "      <td>0</td>\n",
              "      <td>0</td>\n",
              "      <td>0</td>\n",
              "      <td>0</td>\n",
              "      <td>0</td>\n",
              "      <td>0</td>\n",
              "      <td>0</td>\n",
              "      <td>1</td>\n",
              "      <td>0</td>\n",
              "      <td>0</td>\n",
              "      <td>0</td>\n",
              "      <td>0</td>\n",
              "      <td>0</td>\n",
              "      <td>0</td>\n",
              "      <td>0</td>\n",
              "    </tr>\n",
              "    <tr>\n",
              "      <th>5308</th>\n",
              "      <td>0.173913</td>\n",
              "      <td>0.670775</td>\n",
              "      <td>0.989796</td>\n",
              "      <td>0.067568</td>\n",
              "      <td>0.994425</td>\n",
              "      <td>0.0</td>\n",
              "      <td>0.0</td>\n",
              "      <td>2018</td>\n",
              "      <td>0</td>\n",
              "      <td>1</td>\n",
              "      <td>0</td>\n",
              "      <td>1</td>\n",
              "      <td>1</td>\n",
              "      <td>0</td>\n",
              "      <td>0</td>\n",
              "      <td>0</td>\n",
              "      <td>0</td>\n",
              "      <td>1</td>\n",
              "      <td>0</td>\n",
              "      <td>0</td>\n",
              "      <td>0</td>\n",
              "      <td>0</td>\n",
              "      <td>0</td>\n",
              "      <td>1</td>\n",
              "      <td>0</td>\n",
              "      <td>0</td>\n",
              "      <td>0</td>\n",
              "      <td>0</td>\n",
              "      <td>0</td>\n",
              "      <td>0</td>\n",
              "      <td>1</td>\n",
              "    </tr>\n",
              "    <tr>\n",
              "      <th>5446</th>\n",
              "      <td>0.956522</td>\n",
              "      <td>0.792254</td>\n",
              "      <td>0.785714</td>\n",
              "      <td>0.121622</td>\n",
              "      <td>0.887481</td>\n",
              "      <td>0.0</td>\n",
              "      <td>0.0</td>\n",
              "      <td>2018</td>\n",
              "      <td>0</td>\n",
              "      <td>1</td>\n",
              "      <td>0</td>\n",
              "      <td>1</td>\n",
              "      <td>1</td>\n",
              "      <td>0</td>\n",
              "      <td>0</td>\n",
              "      <td>1</td>\n",
              "      <td>0</td>\n",
              "      <td>0</td>\n",
              "      <td>0</td>\n",
              "      <td>0</td>\n",
              "      <td>0</td>\n",
              "      <td>0</td>\n",
              "      <td>0</td>\n",
              "      <td>1</td>\n",
              "      <td>0</td>\n",
              "      <td>0</td>\n",
              "      <td>0</td>\n",
              "      <td>0</td>\n",
              "      <td>0</td>\n",
              "      <td>0</td>\n",
              "      <td>1</td>\n",
              "    </tr>\n",
              "    <tr>\n",
              "      <th>7554</th>\n",
              "      <td>0.782609</td>\n",
              "      <td>0.521127</td>\n",
              "      <td>0.408163</td>\n",
              "      <td>0.324324</td>\n",
              "      <td>0.926001</td>\n",
              "      <td>0.0</td>\n",
              "      <td>0.0</td>\n",
              "      <td>2018</td>\n",
              "      <td>0</td>\n",
              "      <td>0</td>\n",
              "      <td>0</td>\n",
              "      <td>1</td>\n",
              "      <td>1</td>\n",
              "      <td>0</td>\n",
              "      <td>0</td>\n",
              "      <td>0</td>\n",
              "      <td>1</td>\n",
              "      <td>0</td>\n",
              "      <td>0</td>\n",
              "      <td>0</td>\n",
              "      <td>0</td>\n",
              "      <td>0</td>\n",
              "      <td>0</td>\n",
              "      <td>0</td>\n",
              "      <td>0</td>\n",
              "      <td>0</td>\n",
              "      <td>0</td>\n",
              "      <td>0</td>\n",
              "      <td>1</td>\n",
              "      <td>0</td>\n",
              "      <td>0</td>\n",
              "    </tr>\n",
              "    <tr>\n",
              "      <th>3290</th>\n",
              "      <td>0.086957</td>\n",
              "      <td>0.455986</td>\n",
              "      <td>0.459184</td>\n",
              "      <td>0.121622</td>\n",
              "      <td>0.993411</td>\n",
              "      <td>0.0</td>\n",
              "      <td>0.0</td>\n",
              "      <td>2018</td>\n",
              "      <td>1</td>\n",
              "      <td>0</td>\n",
              "      <td>0</td>\n",
              "      <td>1</td>\n",
              "      <td>1</td>\n",
              "      <td>0</td>\n",
              "      <td>0</td>\n",
              "      <td>0</td>\n",
              "      <td>0</td>\n",
              "      <td>1</td>\n",
              "      <td>0</td>\n",
              "      <td>0</td>\n",
              "      <td>0</td>\n",
              "      <td>0</td>\n",
              "      <td>0</td>\n",
              "      <td>0</td>\n",
              "      <td>0</td>\n",
              "      <td>0</td>\n",
              "      <td>0</td>\n",
              "      <td>0</td>\n",
              "      <td>0</td>\n",
              "      <td>0</td>\n",
              "      <td>1</td>\n",
              "    </tr>\n",
              "  </tbody>\n",
              "</table>\n",
              "</div>"
            ],
            "text/plain": [
              "          Hour  Temperature(°C)  Humidity(%)  ...  October  September  Night\n",
              "5584  0.695652         0.955986     0.306122  ...        0          0      0\n",
              "5308  0.173913         0.670775     0.989796  ...        0          0      1\n",
              "5446  0.956522         0.792254     0.785714  ...        0          0      1\n",
              "7554  0.782609         0.521127     0.408163  ...        1          0      0\n",
              "3290  0.086957         0.455986     0.459184  ...        0          0      1\n",
              "\n",
              "[5 rows x 31 columns]"
            ]
          },
          "metadata": {
            "tags": []
          },
          "execution_count": 1086
        }
      ]
    },
    {
      "cell_type": "code",
      "metadata": {
        "id": "kzMJoKi9l_TA"
      },
      "source": [
        ""
      ],
      "execution_count": null,
      "outputs": []
    },
    {
      "cell_type": "markdown",
      "metadata": {
        "id": "f0b5rlpNmNw8"
      },
      "source": [
        "## rescaling "
      ]
    },
    {
      "cell_type": "code",
      "metadata": {
        "id": "3kP5Q9ozmHnV"
      },
      "source": [
        "from sklearn.preprocessing import MinMaxScaler\n",
        "scaler = MinMaxScaler()"
      ],
      "execution_count": null,
      "outputs": []
    },
    {
      "cell_type": "code",
      "metadata": {
        "id": "1EUSM7BPJXGT"
      },
      "source": [
        ""
      ],
      "execution_count": null,
      "outputs": []
    },
    {
      "cell_type": "code",
      "metadata": {
        "id": "IAoMwQwSmi6z"
      },
      "source": [
        ""
      ],
      "execution_count": null,
      "outputs": []
    },
    {
      "cell_type": "code",
      "metadata": {
        "id": "CPEcezZknM36"
      },
      "source": [
        "\n",
        "y_train = df_train\n",
        "X_train = df_train.drop('Hour', axis=1)"
      ],
      "execution_count": null,
      "outputs": []
    },
    {
      "cell_type": "code",
      "metadata": {
        "id": "YZ5yFO8ooRRW"
      },
      "source": [
        "# Importing RFE and LinearRegression\n",
        "from sklearn.feature_selection import RFE\n",
        "from sklearn.linear_model import LinearRegression"
      ],
      "execution_count": null,
      "outputs": []
    },
    {
      "cell_type": "code",
      "metadata": {
        "id": "bQ2kyQshodUV"
      },
      "source": [
        "# Running RFE with the output number of the variable equal to 10\n",
        "lm = LinearRegression()\n",
        "lm.fit(X_train, y_train)\n",
        "rfe = RFE(lm, 15)             \n",
        "rfe = rfe.fit(X_train, y_train)"
      ],
      "execution_count": null,
      "outputs": []
    },
    {
      "cell_type": "code",
      "metadata": {
        "id": "1fVsHb719cXE"
      },
      "source": [
        "y_train = df_train.pop('Rented Bike Count')\n",
        "X_train = df_train"
      ],
      "execution_count": null,
      "outputs": []
    },
    {
      "cell_type": "code",
      "metadata": {
        "id": "qLodDDc-ojhg"
      },
      "source": [
        "\n",
        "list(zip(X_train.columns,rfe.support_,rfe.ranking_))"
      ],
      "execution_count": null,
      "outputs": []
    },
    {
      "cell_type": "code",
      "metadata": {
        "id": "HvsFd0msNOF4"
      },
      "source": [
        "col = X_train.columns[rfe.support_]\n",
        "col"
      ],
      "execution_count": null,
      "outputs": []
    },
    {
      "cell_type": "code",
      "metadata": {
        "id": "5HO4oC7uNRQF"
      },
      "source": [
        "X_train.columns[~rfe.support_]"
      ],
      "execution_count": null,
      "outputs": []
    },
    {
      "cell_type": "markdown",
      "metadata": {
        "id": "GDVwGKd0NY-G"
      },
      "source": [
        "Building model using statmodel"
      ]
    },
    {
      "cell_type": "code",
      "metadata": {
        "id": "x04lJ5oaNU9L"
      },
      "source": [
        "# Creating X_test dataframe with RFE selected variables\n",
        "X_train_rfe = X_train[col]"
      ],
      "execution_count": null,
      "outputs": []
    },
    {
      "cell_type": "code",
      "metadata": {
        "id": "CMgQ13r7NYOM"
      },
      "source": [
        "import statsmodels.api as sm  \n",
        "X_train_rfe = sm.add_constant(X_train_rfe)"
      ],
      "execution_count": null,
      "outputs": []
    },
    {
      "cell_type": "code",
      "metadata": {
        "id": "mzA9A3bfNghd"
      },
      "source": [
        "lm = sm.OLS(y_train,X_train_rfe).fit()  "
      ],
      "execution_count": null,
      "outputs": []
    },
    {
      "cell_type": "code",
      "metadata": {
        "id": "FfVp-x3qNjyF"
      },
      "source": [
        "print(lm.summary())"
      ],
      "execution_count": null,
      "outputs": []
    },
    {
      "cell_type": "code",
      "metadata": {
        "id": "J6wi2JPsNmDe"
      },
      "source": [
        "X_train_new = X_train_rfe.drop(['Rainfall(mm)'], axis=1)"
      ],
      "execution_count": null,
      "outputs": []
    },
    {
      "cell_type": "code",
      "metadata": {
        "id": "cAdmeY56Q2VQ"
      },
      "source": [
        "X_train_lm = sm.add_constant(X_train_new)\n",
        "lm = sm.OLS(y_train,X_train_lm).fit()  \n",
        "print(lm.summary())"
      ],
      "execution_count": null,
      "outputs": []
    },
    {
      "cell_type": "code",
      "metadata": {
        "id": "jhPXjLU2RPQj"
      },
      "source": [
        "X_train_new = X_train_new.drop(['const'], axis=1)"
      ],
      "execution_count": null,
      "outputs": []
    },
    {
      "cell_type": "code",
      "metadata": {
        "id": "c417LeqVN7KQ"
      },
      "source": [
        "from statsmodels.stats.outliers_influence import variance_inflation_factor\n",
        "\n",
        "vif = pd.DataFrame()\n",
        "X = X_train_new\n",
        "vif['Features'] = X.columns\n",
        "vif['VIF'] = [variance_inflation_factor(X.values, i) for i in range(X.shape[1])]\n",
        "vif['VIF'] = round(vif['VIF'], 2)\n",
        "vif = vif.sort_values(by = \"VIF\", ascending = False)\n",
        "vif"
      ],
      "execution_count": null,
      "outputs": []
    },
    {
      "cell_type": "code",
      "metadata": {
        "id": "rRl-gqc7OI8V"
      },
      "source": [
        "X_train_new = X_train_new.drop([\"Yes\"],axis = 1)\n",
        "X_train_lm = sm.add_constant(X_train_new)\n",
        "lm = sm.OLS(y_train,X_train_lm).fit()  \n",
        "print(lm.summary())"
      ],
      "execution_count": null,
      "outputs": []
    },
    {
      "cell_type": "code",
      "metadata": {
        "id": "PE2L74IpOWkt"
      },
      "source": [
        "from statsmodels.stats.outliers_influence import variance_inflation_factor\n",
        "\n",
        "vif = pd.DataFrame()\n",
        "X = X_train_new\n",
        "vif['Features'] = X.columns\n",
        "vif['VIF'] = [variance_inflation_factor(X.values, i) for i in range(X.shape[1])]\n",
        "vif['VIF'] = round(vif['VIF'], 2)\n",
        "vif = vif.sort_values(by = \"VIF\", ascending = False)\n",
        "vif"
      ],
      "execution_count": null,
      "outputs": []
    },
    {
      "cell_type": "code",
      "metadata": {
        "id": "vfqMsfaVRX2u"
      },
      "source": [
        "X_train_new = X_train_new.drop(['Temperature(°C)'], axis=1)"
      ],
      "execution_count": null,
      "outputs": []
    },
    {
      "cell_type": "code",
      "metadata": {
        "id": "hdgfYVJJSLSb"
      },
      "source": [
        "\n",
        "X_train_lm = sm.add_constant(X_train_new)\n",
        "lm = sm.OLS(y_train,X_train_lm).fit()  \n",
        "print(lm.summary())"
      ],
      "execution_count": null,
      "outputs": []
    },
    {
      "cell_type": "code",
      "metadata": {
        "id": "ooOwvvUmSPA8"
      },
      "source": [
        "from statsmodels.stats.outliers_influence import variance_inflation_factor\n",
        "\n",
        "vif = pd.DataFrame()\n",
        "X = X_train_new\n",
        "vif['Features'] = X.columns\n",
        "vif['VIF'] = [variance_inflation_factor(X.values, i) for i in range(X.shape[1])]\n",
        "vif['VIF'] = round(vif['VIF'], 2)\n",
        "vif = vif.sort_values(by = \"VIF\", ascending = False)\n",
        "vif"
      ],
      "execution_count": null,
      "outputs": []
    },
    {
      "cell_type": "code",
      "metadata": {
        "id": "BjCD1CsClzs6"
      },
      "source": [
        "X_train_lm = sm.add_constant(X_train_new)\n",
        "lm = sm.OLS(y_train,X_train_lm).fit()  \n",
        "print(lm.summary())"
      ],
      "execution_count": null,
      "outputs": []
    },
    {
      "cell_type": "markdown",
      "metadata": {
        "id": "g3ArjGc4WyQ6"
      },
      "source": [
        "Residual Analysis"
      ]
    },
    {
      "cell_type": "code",
      "metadata": {
        "id": "oSVSUnqbSWP0"
      },
      "source": [
        "y_train_cnt = lm.predict(X_train_lm)"
      ],
      "execution_count": null,
      "outputs": []
    },
    {
      "cell_type": "code",
      "metadata": {
        "id": "l-LtvxFBWuej"
      },
      "source": [
        "# Importing the required libraries for plots.\n",
        "import matplotlib.pyplot as plt\n",
        "import seaborn as sns\n",
        "%matplotlib inline"
      ],
      "execution_count": null,
      "outputs": []
    },
    {
      "cell_type": "code",
      "metadata": {
        "id": "9YmvVFXDmoY6"
      },
      "source": [
        ""
      ],
      "execution_count": null,
      "outputs": []
    },
    {
      "cell_type": "markdown",
      "metadata": {
        "id": "ihLDrZWjmosv"
      },
      "source": [
        "Making predictions\n"
      ]
    },
    {
      "cell_type": "code",
      "metadata": {
        "id": "nB0AEQvKXKqj"
      },
      "source": [
        "\n",
        "num_vars = ['Temperature(°C)', 'Hour', 'Humidity(%)', 'Rented Bike Count',\"Wind speed (m/s)\",\"Visibility (10m)\",\"Rainfall(mm)\",\"Snowfall (cm)\"]\n",
        "\n",
        "\n",
        "df_test[num_vars] = scaler.transform(df_test[num_vars])\n"
      ],
      "execution_count": null,
      "outputs": []
    },
    {
      "cell_type": "code",
      "metadata": {
        "id": "lmbkt4m6XbxF"
      },
      "source": [
        "y_test = df_test.pop('Rented Bike Count')\n",
        "X_test = df_test"
      ],
      "execution_count": null,
      "outputs": []
    },
    {
      "cell_type": "code",
      "metadata": {
        "id": "u03ELogmXncG"
      },
      "source": [
        "# using model to make predictions.\n",
        "\n",
        "# Creating X_test_new dataframe by dropping variables from X_test\n",
        "X_test_new = X_test[X_train_new.columns]\n",
        "\n",
        "# Adding a constant variable \n",
        "X_test_new = sm.add_constant(X_test_new)"
      ],
      "execution_count": null,
      "outputs": []
    },
    {
      "cell_type": "code",
      "metadata": {
        "id": "QcHlovcnmTtY"
      },
      "source": [
        "# Making predictions\n",
        "from sklearn.metrics import r2_score\n",
        "y_pred = lm.predict(X_test_new)\n",
        "round(100*(r2_score(y_test,y_pred)))"
      ],
      "execution_count": null,
      "outputs": []
    },
    {
      "cell_type": "markdown",
      "metadata": {
        "id": "tP5pQHBHmfCA"
      },
      "source": [
        "Model evaluation"
      ]
    },
    {
      "cell_type": "code",
      "metadata": {
        "id": "J2gBDzdQWxLS"
      },
      "source": [
        "fig = plt.figure()\n",
        "sns.distplot((y_train - y_train_cnt), bins = 20)\n",
        "fig.suptitle('Error Terms', fontsize = 20)                  # Plot heading \n",
        "plt.xlabel('Errors', fontsize = 18)          "
      ],
      "execution_count": null,
      "outputs": []
    },
    {
      "cell_type": "code",
      "metadata": {
        "id": "VfjhEW-Ww71S"
      },
      "source": [
        "df.info()"
      ],
      "execution_count": null,
      "outputs": []
    },
    {
      "cell_type": "markdown",
      "metadata": {
        "id": "5kEYcGQAmx0o"
      },
      "source": [
        "# Decision Tree"
      ]
    },
    {
      "cell_type": "code",
      "metadata": {
        "id": "h4FNcTgymzjE"
      },
      "source": [
        "\n",
        "from sklearn.tree import DecisionTreeRegressor"
      ],
      "execution_count": null,
      "outputs": []
    },
    {
      "cell_type": "code",
      "metadata": {
        "id": "HVQuWU7z0XW3"
      },
      "source": [
        "scalerTrain = preprocessing.StandardScaler().fit(X_train)\n",
        "scalerTest = preprocessing.StandardScaler().fit(X_test)\n",
        "X_train_Scaled=scalerTrain.transform(X_train)\n",
        "X_test_Scaled=scalerTest.transform(X_test)"
      ],
      "execution_count": null,
      "outputs": []
    },
    {
      "cell_type": "code",
      "metadata": {
        "id": "ntu8GI5E2D_s"
      },
      "source": [
        ""
      ],
      "execution_count": null,
      "outputs": []
    }
  ]
}